{
 "cells": [
  {
   "cell_type": "code",
   "execution_count": 1,
   "metadata": {},
   "outputs": [
    {
     "name": "stdout",
     "output_type": "stream",
     "text": [
      "Collecting nltk\n",
      "  Using cached nltk-3.9.1-py3-none-any.whl.metadata (2.9 kB)\n",
      "Collecting click (from nltk)\n",
      "  Using cached click-8.1.7-py3-none-any.whl.metadata (3.0 kB)\n",
      "Requirement already satisfied: joblib in /home/mohammad/pytorch/lib/python3.12/site-packages (from nltk) (1.4.2)\n",
      "Collecting regex>=2021.8.3 (from nltk)\n",
      "  Using cached regex-2024.9.11-cp312-cp312-manylinux_2_17_x86_64.manylinux2014_x86_64.whl.metadata (40 kB)\n",
      "Requirement already satisfied: tqdm in /home/mohammad/pytorch/lib/python3.12/site-packages (from nltk) (4.66.5)\n",
      "Using cached nltk-3.9.1-py3-none-any.whl (1.5 MB)\n",
      "Using cached regex-2024.9.11-cp312-cp312-manylinux_2_17_x86_64.manylinux2014_x86_64.whl (797 kB)\n",
      "Using cached click-8.1.7-py3-none-any.whl (97 kB)\n",
      "Installing collected packages: regex, click, nltk\n",
      "Successfully installed click-8.1.7 nltk-3.9.1 regex-2024.9.11\n"
     ]
    }
   ],
   "source": [
    "!pip install nltk\n"
   ]
  },
  {
   "cell_type": "code",
   "execution_count": 2,
   "metadata": {},
   "outputs": [
    {
     "name": "stderr",
     "output_type": "stream",
     "text": [
      "[nltk_data] Downloading package brown to /home/mohammad/nltk_data...\n",
      "[nltk_data]   Unzipping corpora/brown.zip.\n"
     ]
    },
    {
     "data": {
      "text/plain": [
       "True"
      ]
     },
     "execution_count": 2,
     "metadata": {},
     "output_type": "execute_result"
    }
   ],
   "source": [
    "import nltk\n",
    "# Download the Brown Corpus\n",
    "nltk.download('brown')\n"
   ]
  },
  {
   "cell_type": "code",
   "execution_count": 3,
   "metadata": {},
   "outputs": [
    {
     "name": "stdout",
     "output_type": "stream",
     "text": [
      "['adventure', 'belles_lettres', 'editorial', 'fiction', 'government', 'hobbies', 'humor', 'learned', 'lore', 'mystery', 'news', 'religion', 'reviews', 'romance', 'science_fiction']\n",
      "['The', 'Fulton', 'County', 'Grand', 'Jury', 'said', 'Friday', 'an', 'investigation', 'of', \"Atlanta's\", 'recent', 'primary', 'election', 'produced', '``', 'no', 'evidence', \"''\", 'that']\n"
     ]
    }
   ],
   "source": [
    "from nltk.corpus import brown\n",
    "\n",
    "# Check the available categories in the corpus\n",
    "print(brown.categories())\n",
    "\n",
    "# Example: Get the words from the 'news' category\n",
    "news_words = brown.words(categories='news')\n",
    "print(news_words[:20])\n"
   ]
  },
  {
   "cell_type": "code",
   "execution_count": 11,
   "metadata": {},
   "outputs": [
    {
     "ename": "NameError",
     "evalue": "name 'news_words' is not defined",
     "output_type": "error",
     "traceback": [
      "\u001b[0;31m---------------------------------------------------------------------------\u001b[0m",
      "\u001b[0;31mNameError\u001b[0m                                 Traceback (most recent call last)",
      "Cell \u001b[0;32mIn[11], line 10\u001b[0m\n\u001b[1;32m      8\u001b[0m \u001b[38;5;66;03m# Save some portion of the corpus locally\u001b[39;00m\n\u001b[1;32m      9\u001b[0m \u001b[38;5;28;01mwith\u001b[39;00m \u001b[38;5;28mopen\u001b[39m(os\u001b[38;5;241m.\u001b[39mpath\u001b[38;5;241m.\u001b[39mjoin(corpus_dir, \u001b[38;5;124m'\u001b[39m\u001b[38;5;124mnews_words.txt\u001b[39m\u001b[38;5;124m'\u001b[39m), \u001b[38;5;124m'\u001b[39m\u001b[38;5;124mw\u001b[39m\u001b[38;5;124m'\u001b[39m) \u001b[38;5;28;01mas\u001b[39;00m f:\n\u001b[0;32m---> 10\u001b[0m     \u001b[38;5;28;01mfor\u001b[39;00m word \u001b[38;5;129;01min\u001b[39;00m \u001b[43mnews_words\u001b[49m:\n\u001b[1;32m     11\u001b[0m         f\u001b[38;5;241m.\u001b[39mwrite(word \u001b[38;5;241m+\u001b[39m \u001b[38;5;124m'\u001b[39m\u001b[38;5;130;01m\\n\u001b[39;00m\u001b[38;5;124m'\u001b[39m)\n",
      "\u001b[0;31mNameError\u001b[0m: name 'news_words' is not defined"
     ]
    }
   ],
   "source": [
    "import os\n",
    "\n",
    "# Create a local directory to save the corpus\n",
    "corpus_dir = 'brown_corpus'\n",
    "if not os.path.exists(corpus_dir):\n",
    "    os.mkdir(corpus_dir)\n",
    "\n",
    "# Save some portion of the corpus locally\n",
    "with open(os.path.join(corpus_dir, 'news_words.txt'), 'w') as f:\n",
    "    for word in news_words:\n",
    "        f.write(word + '\\n')\n"
   ]
  },
  {
   "cell_type": "code",
   "execution_count": 5,
   "metadata": {},
   "outputs": [
    {
     "name": "stdout",
     "output_type": "stream",
     "text": [
      "Requirement already satisfied: torchtext in /home/mohammad/pytorch/lib/python3.12/site-packages (0.18.0)\n",
      "Requirement already satisfied: tqdm in /home/mohammad/pytorch/lib/python3.12/site-packages (from torchtext) (4.66.5)\n",
      "Requirement already satisfied: requests in /home/mohammad/pytorch/lib/python3.12/site-packages (from torchtext) (2.32.3)\n",
      "Requirement already satisfied: torch>=2.3.0 in /home/mohammad/pytorch/lib/python3.12/site-packages (from torchtext) (2.4.0+cu118)\n",
      "Requirement already satisfied: numpy in /home/mohammad/pytorch/lib/python3.12/site-packages (from torchtext) (1.26.3)\n",
      "Requirement already satisfied: filelock in /home/mohammad/pytorch/lib/python3.12/site-packages (from torch>=2.3.0->torchtext) (3.13.1)\n",
      "Requirement already satisfied: typing-extensions>=4.8.0 in /home/mohammad/pytorch/lib/python3.12/site-packages (from torch>=2.3.0->torchtext) (4.9.0)\n",
      "Requirement already satisfied: sympy in /home/mohammad/pytorch/lib/python3.12/site-packages (from torch>=2.3.0->torchtext) (1.12)\n",
      "Requirement already satisfied: networkx in /home/mohammad/pytorch/lib/python3.12/site-packages (from torch>=2.3.0->torchtext) (3.2.1)\n",
      "Requirement already satisfied: jinja2 in /home/mohammad/pytorch/lib/python3.12/site-packages (from torch>=2.3.0->torchtext) (3.1.3)\n",
      "Requirement already satisfied: fsspec in /home/mohammad/pytorch/lib/python3.12/site-packages (from torch>=2.3.0->torchtext) (2024.2.0)\n",
      "Requirement already satisfied: setuptools in /home/mohammad/pytorch/lib/python3.12/site-packages (from torch>=2.3.0->torchtext) (70.0.0)\n",
      "Requirement already satisfied: nvidia-cuda-nvrtc-cu11==11.8.89 in /home/mohammad/pytorch/lib/python3.12/site-packages (from torch>=2.3.0->torchtext) (11.8.89)\n",
      "Requirement already satisfied: nvidia-cuda-runtime-cu11==11.8.89 in /home/mohammad/pytorch/lib/python3.12/site-packages (from torch>=2.3.0->torchtext) (11.8.89)\n",
      "Requirement already satisfied: nvidia-cuda-cupti-cu11==11.8.87 in /home/mohammad/pytorch/lib/python3.12/site-packages (from torch>=2.3.0->torchtext) (11.8.87)\n",
      "Requirement already satisfied: nvidia-cudnn-cu11==9.1.0.70 in /home/mohammad/pytorch/lib/python3.12/site-packages (from torch>=2.3.0->torchtext) (9.1.0.70)\n",
      "Requirement already satisfied: nvidia-cublas-cu11==11.11.3.6 in /home/mohammad/pytorch/lib/python3.12/site-packages (from torch>=2.3.0->torchtext) (11.11.3.6)\n",
      "Requirement already satisfied: nvidia-cufft-cu11==10.9.0.58 in /home/mohammad/pytorch/lib/python3.12/site-packages (from torch>=2.3.0->torchtext) (10.9.0.58)\n",
      "Requirement already satisfied: nvidia-curand-cu11==10.3.0.86 in /home/mohammad/pytorch/lib/python3.12/site-packages (from torch>=2.3.0->torchtext) (10.3.0.86)\n",
      "Requirement already satisfied: nvidia-cusolver-cu11==11.4.1.48 in /home/mohammad/pytorch/lib/python3.12/site-packages (from torch>=2.3.0->torchtext) (11.4.1.48)\n",
      "Requirement already satisfied: nvidia-cusparse-cu11==11.7.5.86 in /home/mohammad/pytorch/lib/python3.12/site-packages (from torch>=2.3.0->torchtext) (11.7.5.86)\n",
      "Requirement already satisfied: nvidia-nccl-cu11==2.20.5 in /home/mohammad/pytorch/lib/python3.12/site-packages (from torch>=2.3.0->torchtext) (2.20.5)\n",
      "Requirement already satisfied: nvidia-nvtx-cu11==11.8.86 in /home/mohammad/pytorch/lib/python3.12/site-packages (from torch>=2.3.0->torchtext) (11.8.86)\n",
      "Requirement already satisfied: triton==3.0.0 in /home/mohammad/pytorch/lib/python3.12/site-packages (from torch>=2.3.0->torchtext) (3.0.0)\n",
      "Requirement already satisfied: charset-normalizer<4,>=2 in /home/mohammad/pytorch/lib/python3.12/site-packages (from requests->torchtext) (3.4.0)\n",
      "Requirement already satisfied: idna<4,>=2.5 in /home/mohammad/pytorch/lib/python3.12/site-packages (from requests->torchtext) (3.10)\n",
      "Requirement already satisfied: urllib3<3,>=1.21.1 in /home/mohammad/pytorch/lib/python3.12/site-packages (from requests->torchtext) (2.2.3)\n",
      "Requirement already satisfied: certifi>=2017.4.17 in /home/mohammad/pytorch/lib/python3.12/site-packages (from requests->torchtext) (2024.8.30)\n",
      "Requirement already satisfied: MarkupSafe>=2.0 in /home/mohammad/pytorch/lib/python3.12/site-packages (from jinja2->torch>=2.3.0->torchtext) (2.1.5)\n",
      "Requirement already satisfied: mpmath>=0.19 in /home/mohammad/pytorch/lib/python3.12/site-packages (from sympy->torch>=2.3.0->torchtext) (1.3.0)\n"
     ]
    }
   ],
   "source": [
    "!pip3 install torchtext\n"
   ]
  },
  {
   "cell_type": "code",
   "execution_count": 16,
   "metadata": {},
   "outputs": [
    {
     "name": "stderr",
     "output_type": "stream",
     "text": [
      "/home/mohammad/pytorch/lib/python3.12/site-packages/tqdm/auto.py:21: TqdmWarning: IProgress not found. Please update jupyter and ipywidgets. See https://ipywidgets.readthedocs.io/en/stable/user_install.html\n",
      "  from .autonotebook import tqdm as notebook_tqdm\n",
      "Generating train split: 100%|██████████| 67349/67349 [00:00<00:00, 2374717.79 examples/s]\n",
      "Generating validation split: 100%|██████████| 872/872 [00:00<00:00, 668757.19 examples/s]\n",
      "Generating test split: 100%|██████████| 1821/1821 [00:00<00:00, 1125693.09 examples/s]\n"
     ]
    },
    {
     "name": "stdout",
     "output_type": "stream",
     "text": [
      "SST-2 dataset downloaded and saved as .txt files.\n"
     ]
    }
   ],
   "source": [
    "from datasets import load_dataset\n",
    "\n",
    "# Load SST-2 dataset\n",
    "dataset = load_dataset('glue', 'sst2')\n",
    "\n",
    "# Save the training set to a .txt file\n",
    "with open('sst2_train.txt', 'w', encoding='utf-8') as f:\n",
    "    for example in dataset['train']:\n",
    "        label = example['label']  # Label (0 = negative, 1 = positive)\n",
    "        sentence = example['sentence']  # Sentence from the dataset\n",
    "        f.write(f\"{label}\\t{sentence}\\n\")\n",
    "\n",
    "# Save the test set to a .txt file\n",
    "with open('sst2_test.txt', 'w', encoding='utf-8') as f:\n",
    "    for example in dataset['test']:\n",
    "        sentence = example['sentence']\n",
    "        f.write(f\"{sentence}\\n\")\n",
    "\n",
    "print(\"SST-2 dataset downloaded and saved as .txt files.\")\n"
   ]
  }
 ],
 "metadata": {
  "kernelspec": {
   "display_name": "pytorch",
   "language": "python",
   "name": "python3"
  },
  "language_info": {
   "codemirror_mode": {
    "name": "ipython",
    "version": 3
   },
   "file_extension": ".py",
   "mimetype": "text/x-python",
   "name": "python",
   "nbconvert_exporter": "python",
   "pygments_lexer": "ipython3",
   "version": "3.12.3"
  }
 },
 "nbformat": 4,
 "nbformat_minor": 2
}
