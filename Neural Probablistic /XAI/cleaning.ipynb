{
 "cells": [
  {
   "cell_type": "code",
   "execution_count": 2,
   "metadata": {},
   "outputs": [
    {
     "name": "stdout",
     "output_type": "stream",
     "text": [
      "fulton county grand jury said friday investigation atlantas recent primary election produced evidence irregularities took place jury said termend presentments city executive committee overall charge e\n"
     ]
    },
    {
     "name": "stderr",
     "output_type": "stream",
     "text": [
      "[nltk_data] Downloading package stopwords to\n",
      "[nltk_data]     /home/mohammad/nltk_data...\n",
      "[nltk_data]   Package stopwords is already up-to-date!\n"
     ]
    }
   ],
   "source": [
    "import re\n",
    "\n",
    "# Step 1: Load the text file\n",
    "file_path = '/home/mohammad/Safety-Driven-Self-Compressing-Neural-Networks/Neural Probablistic /brown_corpus/news_words.txt'\n",
    "\n",
    "with open(file_path, 'r', encoding='utf-8') as file:\n",
    "    text = file.read()\n",
    "\n",
    "# Step 2: Clean the text (remove non-words, punctuation, numbers)\n",
    "def clean_text(text):\n",
    "    # Remove everything that is not a letter (A-Z or a-z)\n",
    "    cleaned_text = re.sub(r'[^a-zA-Z\\s]', '', text)\n",
    "    return cleaned_text\n",
    "\n",
    "# Clean the loaded text\n",
    "cleaned_text = clean_text(text)\n",
    "\n",
    "# Step 3: Optionally, convert text to lowercase\n",
    "cleaned_text = cleaned_text.lower()\n",
    "\n",
    "# Optional Step: Remove stopwords\n",
    "# Load NLTK's stopwords and remove them from the text\n",
    "import nltk\n",
    "nltk.download('stopwords')\n",
    "from nltk.corpus import stopwords\n",
    "\n",
    "stop_words = set(stopwords.words('english'))\n",
    "cleaned_words = [word for word in cleaned_text.split() if word not in stop_words]\n",
    "\n",
    "# Join words back into a string (if needed)\n",
    "final_cleaned_text = ' '.join(cleaned_words)\n",
    "\n",
    "# Print the first 200 characters of cleaned text as a sample\n",
    "print(final_cleaned_text[:200])\n",
    "\n",
    "# Step 4: Save the cleaned text back to a new file (optional)\n",
    "output_file_path = 'cleaned_brown_corpus.txt'\n",
    "\n",
    "with open(output_file_path, 'w', encoding='utf-8') as output_file:\n",
    "    output_file.write(final_cleaned_text)\n"
   ]
  }
 ],
 "metadata": {
  "kernelspec": {
   "display_name": "pytorch",
   "language": "python",
   "name": "python3"
  },
  "language_info": {
   "codemirror_mode": {
    "name": "ipython",
    "version": 3
   },
   "file_extension": ".py",
   "mimetype": "text/x-python",
   "name": "python",
   "nbconvert_exporter": "python",
   "pygments_lexer": "ipython3",
   "version": "3.12.3"
  }
 },
 "nbformat": 4,
 "nbformat_minor": 2
}
