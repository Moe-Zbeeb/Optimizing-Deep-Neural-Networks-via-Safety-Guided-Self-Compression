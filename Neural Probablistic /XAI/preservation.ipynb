{
 "cells": [
  {
   "cell_type": "code",
   "execution_count": 3,
   "metadata": {},
   "outputs": [
    {
     "name": "stdout",
     "output_type": "stream",
     "text": [
      "Saved the top 1000 hardest examples to 'hardest_examples.txt'.\n"
     ]
    }
   ],
   "source": [
    "from collections import defaultdict, Counter\n",
    "\n",
    "# Load the names dataset from a text file (each name is on a new line)\n",
    "file_path = '/home/mohammad/Safety-Driven-Self-Compressing-Neural-Networks/Neural Probablistic /data/names.txt'  # Replace this with your actual file path\n",
    "\n",
    "# Read the file and store each name\n",
    "with open(file_path, 'r', encoding='utf-8') as file:\n",
    "    data = [line.strip().lower() for line in file]\n",
    "\n",
    "# Step 1: Calculate character frequencies and character-pair transition frequencies\n",
    "char_freq = Counter()\n",
    "pair_freq = defaultdict(Counter)\n",
    "\n",
    "# Update the frequency counts for characters and consecutive character pairs\n",
    "for name in data:\n",
    "    for i in range(len(name)):\n",
    "        char_freq[name[i]] += 1\n",
    "        if i < len(name) - 1:\n",
    "            pair_freq[name[i]][name[i+1]] += 1\n",
    "\n",
    "# Total number of characters\n",
    "total_chars = sum(char_freq.values())\n",
    "\n",
    "# Step 2: Calculate the probabilities of each character and character-pair transition\n",
    "char_probs = {char: freq / total_chars for char, freq in char_freq.items()}\n",
    "pair_probs = {}\n",
    "\n",
    "for char, following_chars in pair_freq.items():\n",
    "    total_pairs = sum(following_chars.values())\n",
    "    pair_probs[char] = {next_char: count / total_pairs for next_char, count in following_chars.items()}\n",
    "\n",
    "# Step 3: Function to calculate the average transition probability for each name\n",
    "def calculate_average_transition_probability(name, char_probs, pair_probs):\n",
    "    total_prob = 0\n",
    "    for i in range(len(name) - 1):\n",
    "        current_char = name[i]\n",
    "        next_char = name[i + 1]\n",
    "        if current_char in pair_probs and next_char in pair_probs[current_char]:\n",
    "            total_prob += pair_probs[current_char][next_char]\n",
    "        else:\n",
    "            total_prob += 0  # If the transition is unseen, treat it as zero probability\n",
    "    return total_prob / (len(name) - 1)  # Average probability for the name\n",
    "\n",
    "# Step 4: Identify the names with the weakest character transition probabilities\n",
    "name_probabilities = []\n",
    "for name in data:\n",
    "    avg_prob = calculate_average_transition_probability(name, char_probs, pair_probs)\n",
    "    name_probabilities.append((name, avg_prob))\n",
    "\n",
    "# Sort names by their average transition probability (ascending)\n",
    "name_probabilities.sort(key=lambda x: x[1])\n",
    "\n",
    "# Step 5: Select the top 1000 hardest examples (names with the weakest probabilities)\n",
    "preservation_set = name_probabilities[:1000]  # Select the top 1000 hardest examples\n",
    "\n",
    "# Save the hardest examples to a text file\n",
    "output_file = 'hardest_examples.txt'\n",
    "with open(output_file, 'w', encoding='utf-8') as f:\n",
    "    for name, prob in preservation_set:\n",
    "        f.write(f\"{name}\\n\")\n",
    "\n",
    "# Display confirmation\n",
    "print(f\"Saved the top 1000 hardest examples to '{output_file}'.\")\n"
   ]
  }
 ],
 "metadata": {
  "kernelspec": {
   "display_name": "pytorch",
   "language": "python",
   "name": "python3"
  },
  "language_info": {
   "codemirror_mode": {
    "name": "ipython",
    "version": 3
   },
   "file_extension": ".py",
   "mimetype": "text/x-python",
   "name": "python",
   "nbconvert_exporter": "python",
   "pygments_lexer": "ipython3",
   "version": "3.12.3"
  }
 },
 "nbformat": 4,
 "nbformat_minor": 2
}
