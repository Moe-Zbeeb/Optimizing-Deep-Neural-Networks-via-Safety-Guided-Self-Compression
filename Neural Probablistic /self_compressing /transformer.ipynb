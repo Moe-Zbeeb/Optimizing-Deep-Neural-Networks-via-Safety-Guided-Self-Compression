{
 "cells": [
  {
   "cell_type": "code",
   "execution_count": 5,
   "metadata": {},
   "outputs": [],
   "source": [
    "import torch\n",
    "import torch.nn as nn\n",
    "import torch.nn.functional as F\n",
    "import random\n",
    "import math\n",
    "import matplotlib.pyplot as plt\n"
   ]
  },
  {
   "cell_type": "code",
   "execution_count": 7,
   "metadata": {},
   "outputs": [
    {
     "name": "stdout",
     "output_type": "stream",
     "text": [
      "Vocabulary size: 27\n"
     ]
    }
   ],
   "source": [
    "# Load the list of names from a file\n",
    "with open('/home/mohammad/Safety-Driven-Self-Compressing-Neural-Networks/Neural Probablistic /data/names.txt', 'r') as f:\n",
    "    words = f.read().splitlines()\n",
    "\n",
    "# Build the vocabulary of characters\n",
    "chars = sorted(list(set(''.join(words))))\n",
    "stoi = {s: i+1 for i, s in enumerate(chars)}  # Start indices from 1\n",
    "stoi['.'] = 0  # End-of-sequence token\n",
    "itos = {i: s for s, i in stoi.items()}\n",
    "vocab_size = len(stoi)\n",
    "print(f\"Vocabulary size: {vocab_size}\")\n"
   ]
  },
  {
   "cell_type": "code",
   "execution_count": 8,
   "metadata": {},
   "outputs": [
    {
     "name": "stdout",
     "output_type": "stream",
     "text": [
      "Training set size: torch.Size([182625, 8]), torch.Size([182625])\n",
      "Validation set size: torch.Size([22655, 8]), torch.Size([22655])\n",
      "Test set size: torch.Size([22866, 8]), torch.Size([22866])\n"
     ]
    }
   ],
   "source": [
    "def build_dataset(words, block_size=8):\n",
    "    X, Y = [], []\n",
    "    for w in words:\n",
    "        context = [0] * block_size  # Initialize context with zeros (start tokens)\n",
    "        for ch in w + '.':  # Append the end-of-sequence token\n",
    "            ix = stoi[ch]\n",
    "            X.append(context)\n",
    "            Y.append(ix)\n",
    "            context = context[1:] + [ix]  # Slide the context window\n",
    "    X = torch.tensor(X, dtype=torch.long)\n",
    "    Y = torch.tensor(Y, dtype=torch.long)\n",
    "    return X, Y\n",
    "\n",
    "# Shuffle and split the dataset\n",
    "random.seed(42)\n",
    "random.shuffle(words)\n",
    "n1 = int(0.8 * len(words))\n",
    "n2 = int(0.9 * len(words))\n",
    "\n",
    "block_size = 8  # Context size\n",
    "\n",
    "Xtr, Ytr = build_dataset(words[:n1], block_size)\n",
    "Xdev, Ydev = build_dataset(words[n1:n2], block_size)\n",
    "Xte, Yte = build_dataset(words[n2:], block_size)\n",
    "\n",
    "print(f\"Training set size: {Xtr.shape}, {Ytr.shape}\")\n",
    "print(f\"Validation set size: {Xdev.shape}, {Ydev.shape}\")\n",
    "print(f\"Test set size: {Xte.shape}, {Yte.shape}\")\n"
   ]
  },
  {
   "cell_type": "code",
   "execution_count": 9,
   "metadata": {},
   "outputs": [],
   "source": [
    "class TransformerModel(nn.Module):\n",
    "    def __init__(self, vocab_size, embed_size, num_heads, num_layers, block_size, dropout=0.1):\n",
    "        super().__init__()\n",
    "        self.token_embedding = nn.Embedding(vocab_size, embed_size)\n",
    "        self.position_embedding = nn.Embedding(block_size, embed_size)\n",
    "        self.layers = nn.ModuleList([\n",
    "            nn.TransformerEncoderLayer(\n",
    "                d_model=embed_size,\n",
    "                nhead=num_heads,\n",
    "                dim_feedforward=embed_size * 4,\n",
    "                dropout=dropout,\n",
    "                activation='gelu',\n",
    "                batch_first=True\n",
    "            ) for _ in range(num_layers)\n",
    "        ])\n",
    "        self.ln_f = nn.LayerNorm(embed_size)\n",
    "        self.head = nn.Linear(embed_size, vocab_size)\n",
    "        self.block_size = block_size\n",
    "        self.embed_size = embed_size\n",
    "\n",
    "    def forward(self, idx):\n",
    "        B, T = idx.size()\n",
    "        assert T <= self.block_size, \"Sequence length exceeds block size.\"\n",
    "        token_emb = self.token_embedding(idx)  # (B, T, embed_size)\n",
    "        position_ids = torch.arange(T, device=idx.device).unsqueeze(0).expand(B, T)\n",
    "        pos_emb = self.position_embedding(position_ids)  # (B, T, embed_size)\n",
    "        x = token_emb + pos_emb  # (B, T, embed_size)\n",
    "\n",
    "        for layer in self.layers:\n",
    "            x = layer(x)\n",
    "        x = self.ln_f(x)\n",
    "        logits = self.head(x[:, -1, :])  # Predict the next token\n",
    "        return logits\n"
   ]
  },
  {
   "cell_type": "code",
   "execution_count": 10,
   "metadata": {},
   "outputs": [
    {
     "name": "stdout",
     "output_type": "stream",
     "text": [
      "Total parameters: 801307\n"
     ]
    }
   ],
   "source": [
    "embed_size = 128\n",
    "num_heads = 8\n",
    "num_layers = 4\n",
    "dropout = 0.1\n",
    "\n",
    "model = TransformerModel(\n",
    "    vocab_size=vocab_size,\n",
    "    embed_size=embed_size,\n",
    "    num_heads=num_heads,\n",
    "    num_layers=num_layers,\n",
    "    block_size=block_size,\n",
    "    dropout=dropout\n",
    ")\n",
    "\n",
    "parameters = list(model.parameters())\n",
    "print(f\"Total parameters: {sum(p.numel() for p in parameters)}\")\n"
   ]
  },
  {
   "cell_type": "code",
   "execution_count": 11,
   "metadata": {},
   "outputs": [
    {
     "name": "stdout",
     "output_type": "stream",
     "text": [
      "Loaded Preservation Set: ['jp', 'jb', 'kc', 'kc', 'kj']\n"
     ]
    }
   ],
   "source": [
    "# Load preservation set from a text file\n",
    "def load_preservation_set(file_path):\n",
    "    with open(file_path, 'r') as f:\n",
    "        preservation_words = [line.strip().lower() for line in f.readlines()]\n",
    "    return preservation_words\n",
    "\n",
    "preservation_file_path = '/home/mohammad/Safety-Driven-Self-Compressing-Neural-Networks/Neural Probablistic /data/hardest_examples.txt'\n",
    "preservation_words = load_preservation_set(preservation_file_path)\n",
    "\n",
    "# Build dataset for preservation set\n",
    "Xpres, Ypres = build_dataset(preservation_words, block_size)\n",
    "preservation_set = (Xpres, Ypres)\n",
    "\n",
    "print(f\"Loaded Preservation Set: {preservation_words[:5]}\")\n"
   ]
  },
  {
   "cell_type": "code",
   "execution_count": 12,
   "metadata": {},
   "outputs": [],
   "source": [
    "def evaluate_preservation_set(preservation_set, model):\n",
    "    model.eval()\n",
    "    Xpres, Ypres = preservation_set\n",
    "    with torch.no_grad():\n",
    "        logits = model(Xpres)\n",
    "        loss = F.cross_entropy(logits, Ypres)\n",
    "    return loss.item()\n"
   ]
  },
  {
   "cell_type": "code",
   "execution_count": 13,
   "metadata": {},
   "outputs": [],
   "source": [
    "def compress_attention_heads(model, compression_rate=0.1):\n",
    "    compressed_heads = []\n",
    "    backups = []\n",
    "\n",
    "    for layer in model.layers:\n",
    "        # Get the MultiheadAttention module\n",
    "        attn = layer.self_attn\n",
    "\n",
    "        # Calculate the number of heads to compress\n",
    "        num_heads = attn.num_heads\n",
    "        num_compress = max(1, int(compression_rate * num_heads))\n",
    "\n",
    "        # Randomly select heads to compress\n",
    "        heads_to_compress = random.sample(range(num_heads), num_compress)\n",
    "        compressed_heads.append(heads_to_compress)\n",
    "\n",
    "        # Backup original projection matrices\n",
    "        W_qkv_backup = attn.in_proj_weight.clone()\n",
    "        W_o_backup = attn.out_proj.weight.clone()\n",
    "        backups.append((W_qkv_backup, W_o_backup))\n",
    "\n",
    "        # Zero out the selected heads in the projection matrices\n",
    "        head_dim = attn.embed_dim // num_heads\n",
    "        for head in heads_to_compress:\n",
    "            idx = slice(head * head_dim, (head + 1) * head_dim)\n",
    "            # Zero out the query, key, and value projections for the head\n",
    "            # Since in_proj_weight combines Q, K, V, we need to handle indexing carefully\n",
    "            attn.in_proj_weight.data[:, idx] = 0\n",
    "            # Zero out the output projection\n",
    "            attn.out_proj.weight.data[idx, :] = 0\n",
    "\n",
    "    return backups, compressed_heads\n"
   ]
  },
  {
   "cell_type": "code",
   "execution_count": 14,
   "metadata": {},
   "outputs": [],
   "source": [
    "def restore_attention_heads(model, backups, compressed_heads):\n",
    "    for i, layer in enumerate(model.layers):\n",
    "        attn = layer.self_attn\n",
    "        W_qkv_backup, W_o_backup = backups[i]\n",
    "        heads_to_restore = compressed_heads[i]\n",
    "        num_heads = attn.num_heads\n",
    "        head_dim = attn.embed_dim // num_heads\n",
    "\n",
    "        for head in heads_to_restore:\n",
    "            idx = slice(head * head_dim, (head + 1) * head_dim)\n",
    "            # Restore the query, key, value projections\n",
    "            attn.in_proj_weight.data[:, idx] = W_qkv_backup[:, idx]\n",
    "            # Restore the output projection\n",
    "            attn.out_proj.weight.data[idx, :] = W_o_backup[idx, :]\n"
   ]
  },
  {
   "cell_type": "code",
   "execution_count": 15,
   "metadata": {},
   "outputs": [
    {
     "name": "stdout",
     "output_type": "stream",
     "text": [
      "Step 0, Training Loss: 3.230220079421997\n",
      "Step 500: Restored attention heads due to increased preservation loss.\n",
      "Step 1000: Restored attention heads due to increased preservation loss.\n",
      "Step 1000, Training Loss: 2.175995349884033\n",
      "Step 1500: Restored attention heads due to increased preservation loss.\n",
      "Step 2000: Restored attention heads due to increased preservation loss.\n",
      "Step 2000, Training Loss: 2.036334753036499\n",
      "Step 2500: Restored attention heads due to increased preservation loss.\n",
      "Step 3000: Restored attention heads due to increased preservation loss.\n",
      "Step 3000, Training Loss: 2.1564464569091797\n",
      "Step 3500: Restored attention heads due to increased preservation loss.\n",
      "Step 4000: Restored attention heads due to increased preservation loss.\n",
      "Step 4000, Training Loss: 1.990055799484253\n",
      "Step 4500: Restored attention heads due to increased preservation loss.\n"
     ]
    }
   ],
   "source": [
    "optimizer = torch.optim.AdamW(parameters, lr=1e-3)\n",
    "lossi = []\n",
    "stepi = []\n",
    "max_steps = 5000\n",
    "batch_size = 64\n",
    "compression_rate = 0.25  # Compress 25% of attention heads\n",
    "\n",
    "for i in range(max_steps):\n",
    "    model.train()\n",
    "    # --- Training Phase ---\n",
    "    # Minibatch construction\n",
    "    ix = torch.randint(0, Xtr.shape[0], (batch_size,))\n",
    "    X_batch, Y_batch = Xtr[ix], Ytr[ix]\n",
    "    \n",
    "    # Forward pass\n",
    "    logits = model(X_batch)\n",
    "    loss = F.cross_entropy(logits, Y_batch)\n",
    "    \n",
    "    # Backward pass\n",
    "    optimizer.zero_grad()\n",
    "    loss.backward()\n",
    "    optimizer.step()\n",
    "    \n",
    "    # Track training loss\n",
    "    if i % 100 == 0:\n",
    "        lossi.append(loss.item())\n",
    "        stepi.append(i)\n",
    "    \n",
    "    # --- Preservation Set Evaluation ---\n",
    "    if i % 500 == 0 and i > 0:\n",
    "        # Evaluate preservation set loss before compression\n",
    "        preservation_loss_before = evaluate_preservation_set(preservation_set, model)\n",
    "        \n",
    "        # Compress attention heads\n",
    "        backups, compressed_heads = compress_attention_heads(model, compression_rate)\n",
    "        \n",
    "        # Evaluate preservation set loss after compression\n",
    "        preservation_loss_after = evaluate_preservation_set(preservation_set, model)\n",
    "        \n",
    "        # Restore heads if preservation loss increases\n",
    "        if preservation_loss_after > preservation_loss_before:\n",
    "            restore_attention_heads(model, backups, compressed_heads)\n",
    "            print(f\"Step {i}: Restored attention heads due to increased preservation loss.\")\n",
    "        else:\n",
    "            print(f\"Step {i}: Attention head compression successful.\")\n",
    "        \n",
    "    # Print progress every 1000 steps\n",
    "    if i % 1000 == 0:\n",
    "        print(f\"Step {i}, Training Loss: {loss.item()}\")\n"
   ]
  },
  {
   "cell_type": "code",
   "execution_count": 16,
   "metadata": {},
   "outputs": [
    {
     "name": "stdout",
     "output_type": "stream",
     "text": [
      "Test Loss: 2.133824110031128\n"
     ]
    }
   ],
   "source": [
    "def evaluate_test_set(X, Y, model):\n",
    "    model.eval()\n",
    "    with torch.no_grad():\n",
    "        logits = model(X)\n",
    "        loss = F.cross_entropy(logits, Y)\n",
    "    return loss.item()\n",
    "\n",
    "test_loss = evaluate_test_set(Xte, Yte, model)\n",
    "print(f\"Test Loss: {test_loss}\")\n"
   ]
  },
  {
   "cell_type": "code",
   "execution_count": 17,
   "metadata": {},
   "outputs": [
    {
     "name": "stdout",
     "output_type": "stream",
     "text": [
      "Generated Names:\n",
      "Aeliza\n",
      "Donor\n",
      "Azyael\n",
      "Zandum\n",
      "Josi\n",
      "Janiston\n",
      "Xavanton\n",
      "Zareah\n",
      "B\n",
      "Krostela\n"
     ]
    }
   ],
   "source": [
    "def sample_names(num_names, model, max_length=20):\n",
    "    model.eval()\n",
    "    names = []\n",
    "    for _ in range(num_names):\n",
    "        context = [0] * block_size  # Start with context of zeros\n",
    "        name = ''\n",
    "        for _ in range(max_length):\n",
    "            X = torch.tensor([context], dtype=torch.long)\n",
    "            logits = model(X)\n",
    "            probs = F.softmax(logits, dim=1)\n",
    "            ix = torch.multinomial(probs, num_samples=1).item()\n",
    "            char = itos[ix]\n",
    "            if char == '.':\n",
    "                break\n",
    "            name += char\n",
    "            context = context[1:] + [ix]\n",
    "        names.append(name)\n",
    "    return names\n",
    "\n",
    "generated_names = sample_names(10, model)\n",
    "print(\"Generated Names:\")\n",
    "for name in generated_names:\n",
    "    print(name.capitalize())\n"
   ]
  }
 ],
 "metadata": {
  "kernelspec": {
   "display_name": "pytorch",
   "language": "python",
   "name": "python3"
  },
  "language_info": {
   "codemirror_mode": {
    "name": "ipython",
    "version": 3
   },
   "file_extension": ".py",
   "mimetype": "text/x-python",
   "name": "python",
   "nbconvert_exporter": "python",
   "pygments_lexer": "ipython3",
   "version": "3.12.3"
  }
 },
 "nbformat": 4,
 "nbformat_minor": 2
}
