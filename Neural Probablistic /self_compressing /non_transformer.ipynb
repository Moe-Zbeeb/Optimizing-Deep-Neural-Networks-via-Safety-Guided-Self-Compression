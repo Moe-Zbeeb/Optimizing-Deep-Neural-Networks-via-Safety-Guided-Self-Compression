{
 "cells": [
  {
   "cell_type": "code",
   "execution_count": 1,
   "metadata": {},
   "outputs": [],
   "source": [
    "import torch\n",
    "import torch.nn as nn\n",
    "import torch.nn.functional as F\n",
    "import random\n",
    "import math\n",
    "import matplotlib.pyplot as plt\n"
   ]
  },
  {
   "cell_type": "code",
   "execution_count": 6,
   "metadata": {},
   "outputs": [
    {
     "name": "stdout",
     "output_type": "stream",
     "text": [
      "Vocabulary size: 27\n"
     ]
    }
   ],
   "source": [
    "# Load the list of names from a file\n",
    "with open('/home/mohammad/Safety-Driven-Self-Compressing-Neural-Networks/Neural Probablistic /data/names.txt', 'r') as f:\n",
    "    words = f.read().splitlines()\n",
    "\n",
    "# Build the vocabulary of characters\n",
    "chars = sorted(list(set(''.join(words))))\n",
    "stoi = {s: i+1 for i, s in enumerate(chars)}  # Start indices from 1\n",
    "stoi['.'] = 0  # End-of-sequence token\n",
    "itos = {i: s for s, i in stoi.items()}\n",
    "vocab_size = len(stoi)\n",
    "print(f\"Vocabulary size: {vocab_size}\")\n"
   ]
  },
  {
   "cell_type": "code",
   "execution_count": 7,
   "metadata": {},
   "outputs": [
    {
     "name": "stdout",
     "output_type": "stream",
     "text": [
      "Training set size: torch.Size([182625, 8]), torch.Size([182625])\n",
      "Validation set size: torch.Size([22655, 8]), torch.Size([22655])\n",
      "Test set size: torch.Size([22866, 8]), torch.Size([22866])\n"
     ]
    }
   ],
   "source": [
    "def build_dataset(words, block_size=8):\n",
    "    X, Y = [], []\n",
    "    for w in words:\n",
    "        context = [0] * block_size  # Initialize context with zeros (start tokens)\n",
    "        for ch in w + '.':  # Append the end-of-sequence token\n",
    "            ix = stoi[ch]\n",
    "            X.append(context)\n",
    "            Y.append(ix)\n",
    "            context = context[1:] + [ix]  # Slide the context window\n",
    "    X = torch.tensor(X, dtype=torch.long)\n",
    "    Y = torch.tensor(Y, dtype=torch.long)\n",
    "    return X, Y\n",
    "\n",
    "# Shuffle and split the dataset\n",
    "random.seed(42)\n",
    "random.shuffle(words)\n",
    "n1 = int(0.8 * len(words))\n",
    "n2 = int(0.9 * len(words))\n",
    "\n",
    "block_size = 8  # Context size\n",
    "\n",
    "Xtr, Ytr = build_dataset(words[:n1], block_size)\n",
    "Xdev, Ydev = build_dataset(words[n1:n2], block_size)\n",
    "Xte, Yte = build_dataset(words[n2:], block_size)\n",
    "\n",
    "print(f\"Training set size: {Xtr.shape}, {Ytr.shape}\")\n",
    "print(f\"Validation set size: {Xdev.shape}, {Ydev.shape}\")\n",
    "print(f\"Test set size: {Xte.shape}, {Yte.shape}\")\n"
   ]
  },
  {
   "cell_type": "code",
   "execution_count": 8,
   "metadata": {},
   "outputs": [],
   "source": [
    "class TransformerModel(nn.Module):\n",
    "    def __init__(self, vocab_size, embed_size, num_heads, num_layers, block_size, dropout=0.1):\n",
    "        super().__init__()\n",
    "        self.token_embedding = nn.Embedding(vocab_size, embed_size)\n",
    "        self.position_embedding = nn.Embedding(block_size, embed_size)\n",
    "        self.layers = nn.ModuleList([\n",
    "            nn.TransformerEncoderLayer(\n",
    "                d_model=embed_size,\n",
    "                nhead=num_heads,\n",
    "                dim_feedforward=embed_size * 4,\n",
    "                dropout=dropout,\n",
    "                activation='gelu',\n",
    "                batch_first=True\n",
    "            ) for _ in range(num_layers)\n",
    "        ])\n",
    "        self.ln_f = nn.LayerNorm(embed_size)\n",
    "        self.head = nn.Linear(embed_size, vocab_size)\n",
    "        self.block_size = block_size\n",
    "        self.embed_size = embed_size\n",
    "\n",
    "    def forward(self, idx):\n",
    "        B, T = idx.size()\n",
    "        assert T <= self.block_size, \"Sequence length exceeds block size.\"\n",
    "        token_emb = self.token_embedding(idx)  # (B, T, embed_size)\n",
    "        position_ids = torch.arange(T, device=idx.device).unsqueeze(0).expand(B, T)\n",
    "        pos_emb = self.position_embedding(position_ids)  # (B, T, embed_size)\n",
    "        x = token_emb + pos_emb  # (B, T, embed_size)\n",
    "\n",
    "        for layer in self.layers:\n",
    "            x = layer(x)\n",
    "        x = self.ln_f(x)\n",
    "        logits = self.head(x[:, -1, :])  # Predict the next token\n",
    "        return logits\n"
   ]
  },
  {
   "cell_type": "code",
   "execution_count": 9,
   "metadata": {},
   "outputs": [
    {
     "name": "stdout",
     "output_type": "stream",
     "text": [
      "Total parameters: 801307\n"
     ]
    }
   ],
   "source": [
    "embed_size = 128\n",
    "num_heads = 8\n",
    "num_layers = 4\n",
    "dropout = 0.1\n",
    "\n",
    "model = TransformerModel(\n",
    "    vocab_size=vocab_size,\n",
    "    embed_size=embed_size,\n",
    "    num_heads=num_heads,\n",
    "    num_layers=num_layers,\n",
    "    block_size=block_size,\n",
    "    dropout=dropout\n",
    ")\n",
    "\n",
    "parameters = list(model.parameters())\n",
    "print(f\"Total parameters: {sum(p.numel() for p in parameters)}\")\n"
   ]
  },
  {
   "cell_type": "code",
   "execution_count": 10,
   "metadata": {},
   "outputs": [],
   "source": [
    "def evaluate_model(X, Y, model):\n",
    "    model.eval()\n",
    "    with torch.no_grad():\n",
    "        logits = model(X)\n",
    "        loss = F.cross_entropy(logits, Y)\n",
    "    return loss.item()\n"
   ]
  },
  {
   "cell_type": "code",
   "execution_count": 11,
   "metadata": {},
   "outputs": [
    {
     "name": "stdout",
     "output_type": "stream",
     "text": [
      "Step 0, Training Loss: 3.6559829711914062\n",
      "Step 1000, Training Loss: 2.237804651260376\n",
      "Step 2000, Training Loss: 2.24537992477417\n",
      "Step 3000, Training Loss: 2.0131986141204834\n",
      "Step 4000, Training Loss: 2.123523235321045\n"
     ]
    }
   ],
   "source": [
    "optimizer = torch.optim.AdamW(parameters, lr=1e-3)\n",
    "lossi = []\n",
    "stepi = []\n",
    "max_steps = 5000\n",
    "batch_size = 64\n",
    "\n",
    "for i in range(max_steps):\n",
    "    model.train()\n",
    "    # --- Training Phase ---\n",
    "    # Minibatch construction\n",
    "    ix = torch.randint(0, Xtr.shape[0], (batch_size,))\n",
    "    X_batch, Y_batch = Xtr[ix], Ytr[ix]\n",
    "    \n",
    "    # Forward pass\n",
    "    logits = model(X_batch)\n",
    "    loss = F.cross_entropy(logits, Y_batch)\n",
    "    \n",
    "    # Backward pass\n",
    "    optimizer.zero_grad()\n",
    "    loss.backward()\n",
    "    optimizer.step()\n",
    "    \n",
    "    # Track training loss\n",
    "    if i % 100 == 0:\n",
    "        lossi.append(loss.item())\n",
    "        stepi.append(i)\n",
    "    \n",
    "    # Print progress every 1000 steps\n",
    "    if i % 1000 == 0:\n",
    "        print(f\"Step {i}, Training Loss: {loss.item()}\")\n"
   ]
  },
  {
   "cell_type": "code",
   "execution_count": 12,
   "metadata": {},
   "outputs": [
    {
     "name": "stdout",
     "output_type": "stream",
     "text": [
      "Test Loss: 2.1391916275024414\n"
     ]
    }
   ],
   "source": [
    "test_loss = evaluate_model(Xte, Yte, model)\n",
    "print(f\"Test Loss: {test_loss}\")\n"
   ]
  }
 ],
 "metadata": {
  "kernelspec": {
   "display_name": "pytorch",
   "language": "python",
   "name": "python3"
  },
  "language_info": {
   "codemirror_mode": {
    "name": "ipython",
    "version": 3
   },
   "file_extension": ".py",
   "mimetype": "text/x-python",
   "name": "python",
   "nbconvert_exporter": "python",
   "pygments_lexer": "ipython3",
   "version": "3.12.3"
  }
 },
 "nbformat": 4,
 "nbformat_minor": 2
}
